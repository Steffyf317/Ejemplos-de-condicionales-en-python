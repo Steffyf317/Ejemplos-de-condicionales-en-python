{
  "nbformat": 4,
  "nbformat_minor": 0,
  "metadata": {
    "colab": {
      "provenance": [],
      "authorship_tag": "ABX9TyO3SxrtXxrhmulB0ym3aJcS",
      "include_colab_link": true
    },
    "kernelspec": {
      "name": "python3",
      "display_name": "Python 3"
    },
    "language_info": {
      "name": "python"
    }
  },
  "cells": [
    {
      "cell_type": "markdown",
      "metadata": {
        "id": "view-in-github",
        "colab_type": "text"
      },
      "source": [
        "<a href=\"https://colab.research.google.com/github/Steffyf317/Ejemplos-de-condicionales-en-python/blob/main/Reto4.ipynb\" target=\"_parent\"><img src=\"https://colab.research.google.com/assets/colab-badge.svg\" alt=\"Open In Colab\"/></a>"
      ]
    },
    {
      "cell_type": "code",
      "execution_count": null,
      "metadata": {
        "colab": {
          "base_uri": "https://localhost:8080/"
        },
        "id": "LVN2yalltAVw",
        "outputId": "567ff96d-4bad-4d79-afcc-e6d5e5fdae87"
      },
      "outputs": [
        {
          "output_type": "stream",
          "name": "stdout",
          "text": [
            "Ingrese un numero entero 788\n",
            "el número no corresponde al código ASCII de alguna vocal minuscula\n"
          ]
        }
      ],
      "source": [
        "#Dado un número entero, determinar si ese número corresponde al código ASCII de una vocal minúscula.\n",
        "numero : int #Declaracion de variable\n",
        "numero = int(input('Ingrese un numero entero ')) #Inicializar la variable\n",
        "if numero == ord('a'):  #condicionales estableciendo si se cumple algun caso de vocal minuscula\n",
        "  print('el número corresponde al código ASCII de la vocal a')\n",
        "elif numero == ord('e'):\n",
        "  print('el número corresponde al código ASCII de la vocal e')\n",
        "elif numero == ord('i'):\n",
        "  print('el número corresponde al código ASCII de la vocal i')\n",
        "elif numero == ord('o'):\n",
        "  print('el número corresponde al código ASCII de la vocal o')\n",
        "elif numero == ord('u'):\n",
        "  print('el número corresponde al código ASCII de la vocal u')\n",
        "else:\n",
        "  print('el número no corresponde al código ASCII de alguna vocal minúscula')"
      ]
    },
    {
      "cell_type": "code",
      "source": [
        "#Dado un número entero, determinar si ese número corresponde al código ASCII de una vocal minúscula.\n",
        "numero : int #Declaracion de variable\n",
        "numero = 100  #Inicializar la variable\n",
        "if numero == ord('a'):  #condicionales estableciendo si se cumple algun caso de vocal minuscula\n",
        "  print('el número corresponde al código ASCII de la vocal a')\n",
        "elif numero == ord('e'):\n",
        "  print('el número corresponde al código ASCII de la vocal e')\n",
        "elif numero == ord('i'):\n",
        "  print('el número corresponde al código ASCII de la vocal i')\n",
        "elif numero == ord('o'):\n",
        "  print('el número corresponde al código ASCII de la vocal o')\n",
        "elif numero == ord('u'):\n",
        "  print('el número corresponde al código ASCII de la vocal u')\n",
        "else:\n",
        "  print('el número no corresponde al código ASCII de alguna vocal minúscula')"
      ],
      "metadata": {
        "colab": {
          "base_uri": "https://localhost:8080/"
        },
        "id": "a2NNaX01w6Yu",
        "outputId": "f0a688da-a740-4b9d-b113-6951cea4e217"
      },
      "execution_count": null,
      "outputs": [
        {
          "output_type": "stream",
          "name": "stdout",
          "text": [
            "el número no corresponde al código ASCII de alguna vocal minúscula\n"
          ]
        }
      ]
    },
    {
      "cell_type": "markdown",
      "source": [],
      "metadata": {
        "id": "J6gineN-vggv"
      }
    },
    {
      "cell_type": "code",
      "source": [
        "#Dada una cadena de longitud 1, determine si el código ASCII de primera letra de la cadena es par o no.\n",
        "cadena : str #Declaracion de variable\n",
        "cadena = input('Ingrese una letra ') #pedir al usuario caracter por consola\n",
        "if ord(cadena)%2 == 0 : #establecer los condicionales de si el ASCII es par o no\n",
        "  print(\"El código ASCII de la letra es \" +str(ord(cadena))+ \" y es par\")\n",
        "else:\n",
        "  print(\"El código ASCII de la letra es \" +str(ord(cadena))+ \" y es impar\")"
      ],
      "metadata": {
        "colab": {
          "base_uri": "https://localhost:8080/"
        },
        "id": "5AzSap0E4goq",
        "outputId": "60f8690d-7690-4e4e-c7e3-8169b72ff661"
      },
      "execution_count": null,
      "outputs": [
        {
          "output_type": "stream",
          "name": "stdout",
          "text": [
            "Ingrese una letra t\n",
            "El código ASCII de la letra es 116 y es par\n"
          ]
        }
      ]
    },
    {
      "cell_type": "code",
      "source": [
        "#Dada una cadena de longitud 1, determine si el código ASCII de primera letra de la cadena es par o no.\n",
        "cadena : str #Declaracion de variable\n",
        "cadena = 'E' #Inicializar variable\n",
        "if ord(cadena)%2 == 0 : #establecer los condicionales de si el ASCII es par o no\n",
        "  print(\"El código ASCII de la letra es \" +str(ord(cadena))+ \" y es par\")\n",
        "else:\n",
        "  print(\"El código ASCII de la letra es \" +str(ord(cadena))+ \" y es impar\")"
      ],
      "metadata": {
        "colab": {
          "base_uri": "https://localhost:8080/"
        },
        "id": "Nhff3KFfxGAY",
        "outputId": "13dac2a1-a809-4b3e-8fdf-a0756214c4e6"
      },
      "execution_count": null,
      "outputs": [
        {
          "output_type": "stream",
          "name": "stdout",
          "text": [
            "El código ASCII de la letra es 69 y es impar\n"
          ]
        }
      ]
    },
    {
      "cell_type": "code",
      "source": [
        "#Dado un carácter, construya un programa en Python para determinar si el carácter es un dígito o no.\n",
        "caracter: str #Declarar variable\n",
        "caracter  = input('Ingrese un carácter ') #Pedir a usuario que ingrese un caracter\n",
        "if ord(caracter) == 48 or ord(caracter) == 49 or ord(caracter)== 50 or ord(caracter)== 51 or ord(caracter)==52 or ord(caracter)== 53 or ord(caracter)== 54 or ord(caracter)== 55 or ord(caracter)== 56 or ord(caracter)== 57 :\n",
        "  print('El carácter es un dígito')  #Se establecen los condicionales a partir del codigo ASCII de los 9 dígitos\n",
        "else:\n",
        "  print('El carácter no es un dígito')\n"
      ],
      "metadata": {
        "colab": {
          "base_uri": "https://localhost:8080/"
        },
        "id": "Q5cA5dKYLD-N",
        "outputId": "9237d7bd-3db5-488e-f0d7-69e8a1bd8d65"
      },
      "execution_count": null,
      "outputs": [
        {
          "output_type": "stream",
          "name": "stdout",
          "text": [
            "Ingrese un carácter t\n",
            "El carácter no es un dígito\n"
          ]
        }
      ]
    },
    {
      "cell_type": "code",
      "source": [
        "#Dado un número real x, construya un programa que permita determinar si el número es positivo, negativo o cero.\n",
        "num: float #declarar variable\n",
        "num = float(input('Ingrese un número ')) #pedir al usuario un numero real\n",
        "if num > 0: #Condicionales de acuerdo donde se encuentre el numero en la recta numerica\n",
        "  print(\"El número \" +str(num)+ \" es positivo\")\n",
        "else:\n",
        "  if num < 0:\n",
        "    print(\"El número \" +str(num)+ \" es negativo\")\n",
        "  if num == 0:\n",
        "    print(\"El número \" +str(num)+ \" es el neutro para la suma\")"
      ],
      "metadata": {
        "colab": {
          "base_uri": "https://localhost:8080/"
        },
        "id": "Hglr2CzHRoVc",
        "outputId": "12b6d832-5ade-438f-e947-902d59080ebf"
      },
      "execution_count": null,
      "outputs": [
        {
          "output_type": "stream",
          "name": "stdout",
          "text": [
            "Ingrese un número 5.4\n",
            "El número 5.4 es positivo\n"
          ]
        }
      ]
    },
    {
      "cell_type": "code",
      "source": [
        "#Dado el centro y el radio de un círculo, determinar si un punto de R2 pertenece o no al interior del círculo.\n",
        "centroX : float = float(input('Ingrese la coordenada en x del centro del círculo ')) #se declaran variables y se pide ingresar los datos del círculo\n",
        "centroY : float = float(input('Ingrese la coordenada en y del centro del círculo '))\n",
        "radio: float = float(input('Ingrese el radio del círculo '))\n",
        "x: float = float(input('Ingrese la coordenada en x del punto '))\n",
        "y: float = float(input('Ingrese la coordenada en y del punto '))\n",
        "\n",
        "if (x-centroX)**2 + (y-centroY)**2  < (radio**2): #el condicional se hace con la formula de la circunferencia\n",
        "  print('El punto pertenece al interior del círculo')\n",
        "else:\n",
        "  print('El punto no pertenece al interior del círculo')"
      ],
      "metadata": {
        "colab": {
          "base_uri": "https://localhost:8080/"
        },
        "id": "IYhr4qAGUQBE",
        "outputId": "e1b4343c-bb43-4e0e-e175-8d8377a69303"
      },
      "execution_count": null,
      "outputs": [
        {
          "output_type": "stream",
          "name": "stdout",
          "text": [
            "Ingrese la coordenada en x del centro del círculo 1\n",
            "Ingrese la coordenada en y del centro del círculo 1\n",
            "Ingrese el radio del círculo 5\n",
            "Ingrese la coordenada en x del punto -7\n",
            "Ingrese la coordenada en y del punto 9\n",
            "El punto no pertenece al interior del círculo\n"
          ]
        }
      ]
    },
    {
      "cell_type": "code",
      "source": [
        "#Dado el centro y el radio de un círculo, determinar si un punto de R2 pertenece o no al interior del círculo.\n",
        "centroX : float = 2.1 #Se declaran e inician variables\n",
        "centroY : float = 1\n",
        "radio: float = 5\n",
        "x: float = -8\n",
        "y: float = 1\n",
        "\n",
        "if (x-centroX)**2 + (y-centroY)**2  < (radio**2): #el condicional se hace con la formula de la circunferencia\n",
        "  print('El punto pertenece al interior del círculo')\n",
        "else:\n",
        "  print('El punto no pertenece al interior del círculo')"
      ],
      "metadata": {
        "colab": {
          "base_uri": "https://localhost:8080/"
        },
        "id": "oO_zMih3xc8b",
        "outputId": "3f88ab1c-8183-431f-8cbe-67aed96199c3"
      },
      "execution_count": null,
      "outputs": [
        {
          "output_type": "stream",
          "name": "stdout",
          "text": [
            "El punto no pertenece al interior del círculo\n"
          ]
        }
      ]
    },
    {
      "cell_type": "code",
      "source": [
        "#Dadas tres longitudes positivas, determinar si con esas longitudes se puede construir un triángulo\n",
        "a: int = 2 #se declaran e inician variables\n",
        "b: int = 2\n",
        "c: int = 20\n",
        "if a < (b+c) and b < (a+c) and c < (a+b): #desigualdad triangular\n",
        "  print('Sí se puede construir un triángulo con las longitudes dadas')\n",
        "else:\n",
        "  print('No se puede construir un triángulo con las longitudes dadas')"
      ],
      "metadata": {
        "colab": {
          "base_uri": "https://localhost:8080/"
        },
        "id": "WQDuRs2odvSl",
        "outputId": "6eb313b7-78a2-4031-aaad-8f21fc660c3e"
      },
      "execution_count": null,
      "outputs": [
        {
          "output_type": "stream",
          "name": "stdout",
          "text": [
            "No se puede construir un triángulo con las longitudes dadas\n"
          ]
        }
      ]
    },
    {
      "cell_type": "code",
      "source": [
        "#Dadas tres longitudes positivas, determinar si con esas longitudes se puede construir un triángulo\n",
        "a: int = int(input('Ingrese la primera longitud '))\n",
        "b: int = int(input('Ingrese la segunda longitud '))\n",
        "c: int = int(input('Ingrese la tercera longitud '))\n",
        "if a < (b+c) and b < (a+c) and c < (a+b): #desigualdad triangular\n",
        "  print('Sí se puede construir un triángulo con las longitudes dadas')\n",
        "else:\n",
        "  print('No se puede construir un triángulo con las longitudes dadas')"
      ],
      "metadata": {
        "colab": {
          "base_uri": "https://localhost:8080/"
        },
        "id": "W67398Wz12ZC",
        "outputId": "26b4a5da-bc64-4484-a0a7-a2988dd90f1f"
      },
      "execution_count": null,
      "outputs": [
        {
          "output_type": "stream",
          "name": "stdout",
          "text": [
            "Ingrese la primera longitud 8\n",
            "Ingrese la segunda longitud 5\n",
            "Ingrese la tercera longitud 7\n",
            "Sí se puede construir un triángulo con las longitudes dadas\n"
          ]
        }
      ]
    }
  ]
}